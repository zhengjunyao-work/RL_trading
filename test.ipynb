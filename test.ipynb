{
 "cells": [
  {
   "cell_type": "code",
   "execution_count": 1,
   "metadata": {},
   "outputs": [
    {
     "name": "stdout",
     "output_type": "stream",
     "text": [
      "1 2\n",
      "2 1\n"
     ]
    }
   ],
   "source": [
    "i  =1\n",
    "j = 2\n",
    "print(i,j)\n",
    "\n",
    "i = i+j\n",
    "j = i-j\n",
    "i = i-j\n",
    "print(i,j)\n",
    "\n"
   ]
  },
  {
   "cell_type": "code",
   "execution_count": 2,
   "metadata": {},
   "outputs": [
    {
     "name": "stdout",
     "output_type": "stream",
     "text": [
      "[1, 1, 1, 1, 3, 3, 3, 3, 8, 8, 8, 8]\n",
      "{8, 1, 3}\n"
     ]
    }
   ],
   "source": [
    "a = [1,1,1,1,3,3,3,3,8,8,8,8]\n",
    "print(a)\n",
    "print(set(a))"
   ]
  },
  {
   "cell_type": "code",
   "execution_count": 18,
   "metadata": {},
   "outputs": [],
   "source": [
    "newlist =[]\n",
    "for val in a:\n",
    "    if val not in newlist:\n",
    "        newlist.append(val)\n",
    "\n",
    "# if sorted , then just condition on whether the next value is the same as previous value\n"
   ]
  },
  {
   "cell_type": "code",
   "execution_count": 17,
   "metadata": {},
   "outputs": [
    {
     "data": {
      "text/plain": [
       "[1, 3, 8]"
      ]
     },
     "execution_count": 17,
     "metadata": {},
     "output_type": "execute_result"
    }
   ],
   "source": [
    "#horner algo\n"
   ]
  },
  {
   "cell_type": "code",
   "execution_count": 20,
   "metadata": {},
   "outputs": [
    {
     "name": "stdout",
     "output_type": "stream",
     "text": [
      "[28, 50, 31, 262, 474, 472, 272, 272, 396, 487, 259, 215, 161]\n"
     ]
    }
   ],
   "source": [
    "#moving average\n",
    "a = [1,23,4,23,4,235,235,2,35,235,126,126,7,82,72]\n",
    "n = 3\n",
    "summ = sum(a[0:n])\n",
    "res=[summ]\n",
    "pre= a[0]\n",
    "for i in range(n,len(a)):\n",
    "    next = a[i]\n",
    "    summ = summ - pre + next\n",
    "    pre = a[i-n+1]\n",
    "    res.append(summ)\n",
    "\n",
    "print(res)\n",
    "\n",
    "    "
   ]
  },
  {
   "cell_type": "code",
   "execution_count": null,
   "metadata": {},
   "outputs": [],
   "source": []
  }
 ],
 "metadata": {
  "interpreter": {
   "hash": "aee8b7b246df8f9039afb4144a1f6fd8d2ca17a180786b69acc140d282b71a49"
  },
  "kernelspec": {
   "display_name": "Python 3.9.6 64-bit",
   "language": "python",
   "name": "python3"
  },
  "language_info": {
   "codemirror_mode": {
    "name": "ipython",
    "version": 3
   },
   "file_extension": ".py",
   "mimetype": "text/x-python",
   "name": "python",
   "nbconvert_exporter": "python",
   "pygments_lexer": "ipython3",
   "version": "3.9.6"
  },
  "orig_nbformat": 4
 },
 "nbformat": 4,
 "nbformat_minor": 2
}
